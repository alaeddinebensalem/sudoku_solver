{
 "cells": [
  {
   "cell_type": "code",
   "execution_count": 1,
   "id": "ea5026b9-3a77-4c59-a1c5-b3145aed6cc8",
   "metadata": {},
   "outputs": [
    {
     "data": {
      "text/plain": [
       "' \\nSudoku Solver Example\\nThis notebook demonstrates solving a Sudoku puzzle using our iterative backtracking solver.\\n'"
      ]
     },
     "execution_count": 1,
     "metadata": {},
     "output_type": "execute_result"
    }
   ],
   "source": [
    "\"\"\" \n",
    "Sudoku Solver Example\n",
    "This notebook demonstrates solving a Sudoku puzzle using our iterative backtracking solver.\n",
    "\"\"\""
   ]
  },
  {
   "cell_type": "code",
   "execution_count": 7,
   "id": "b883e4d2-127e-403d-b4f2-de9ffe2dee49",
   "metadata": {},
   "outputs": [],
   "source": [
    "# 17-clue Sudoku puzzle (minimal for a unique 9x9 solution). Difficulty: hard.\n",
    "# Empty cells are represented by 0.\n",
    "puzzle = [0,0,0,0,0,0,0,1,5,\n",
    "          0,0,0,8,3,0,0,0,0,\n",
    "          0,0,0,0,0,0,2,0,0,\n",
    "          0,2,3,0,0,0,8,0,0,\n",
    "          0,0,0,0,0,1,0,0,0,\n",
    "          0,8,0,0,0,0,0,0,0,\n",
    "          1,0,5,0,4,0,0,0,0,\n",
    "          0,0,0,6,0,0,7,2,0,\n",
    "          9,0,0,0,0,0,0,0,0]\n",
    "\n",
    "\n"
   ]
  },
  {
   "cell_type": "code",
   "execution_count": 8,
   "id": "c3448b13-f73b-4e0c-a929-8a7d70e256d5",
   "metadata": {},
   "outputs": [
    {
     "name": "stdout",
     "output_type": "stream",
     "text": [
      "\n",
      "0 0 0 0 0 0 0 1 5 \n",
      "0 0 0 8 3 0 0 0 0 \n",
      "0 0 0 0 0 0 2 0 0 \n",
      "0 2 3 0 0 0 8 0 0 \n",
      "0 0 0 0 0 1 0 0 0 \n",
      "0 8 0 0 0 0 0 0 0 \n",
      "1 0 5 0 4 0 0 0 0 \n",
      "0 0 0 6 0 0 7 2 0 \n",
      "9 0 0 0 0 0 0 0 0 \n",
      "\n",
      "Puzzle has 1 solutions\n",
      "\n",
      "2 4 8 9 6 7 3 1 5 \n",
      "5 1 6 8 3 2 9 4 7 \n",
      "3 9 7 1 5 4 2 6 8 \n",
      "4 2 3 5 9 6 8 7 1 \n",
      "6 5 9 7 8 1 4 3 2 \n",
      "7 8 1 4 2 3 5 9 6 \n",
      "1 7 5 2 4 9 6 8 3 \n",
      "8 3 4 6 1 5 7 2 9 \n",
      "9 6 2 3 7 8 1 5 4 \n"
     ]
    }
   ],
   "source": [
    "\n",
    "from src.utils import print_grid\n",
    "import src.sudoku_solver as solver\n",
    "try:\n",
    "    \n",
    "    solutions = solver.backtrack_iterative_solver(puzzle)\n",
    "    print_grid(puzzle)\n",
    "    print()\n",
    "    print(f\"Puzzle has {len(solutions)} solutions\")\n",
    "    print_grid(solutions[0])\n",
    "except solver.InvalidSudokuError:\n",
    "    print(\"Invalid puzzle!\")\n",
    "\n",
    "\n"
   ]
  },
  {
   "cell_type": "code",
   "execution_count": null,
   "id": "9ed092e3-f319-41a2-9b48-37217ad4263f",
   "metadata": {},
   "outputs": [],
   "source": []
  }
 ],
 "metadata": {
  "kernelspec": {
   "display_name": "Python 3 (ipykernel)",
   "language": "python",
   "name": "python3"
  },
  "language_info": {
   "codemirror_mode": {
    "name": "ipython",
    "version": 3
   },
   "file_extension": ".py",
   "mimetype": "text/x-python",
   "name": "python",
   "nbconvert_exporter": "python",
   "pygments_lexer": "ipython3",
   "version": "3.12.4"
  }
 },
 "nbformat": 4,
 "nbformat_minor": 5
}
